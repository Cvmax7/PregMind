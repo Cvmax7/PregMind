{
 "cells": [
  {
   "cell_type": "code",
   "execution_count": null,
   "metadata": {
    "vscode": {
     "languageId": "plaintext"
    }
   },
   "outputs": [],
   "source": [
    "# 使用MindFormers套件在mindspore环境下对LLaMA 进行LoRA微调\n",
    "# 基座模型：LLaMA3-8B\n",
    "\n",
    "# 首先进行数据集及权重准备\n",
    "# 数据集采用 PsyQA_full.json，需要先将 PsyQA_full 数据集转换为 alpaca_data.json 数据集的格式\n",
    "# 再使用fastchat工具添加prompts模板，将PsyQA转换为多轮对话格式。\n",
    "\n",
    "python ../mindformers/mindformers/tools/dataset_preprocess/llama/alpaca_converter.py \\\n",
    "  --data_path ../dataset/PsyQA.json \\\n",
    "  --output_path ../dataset/PsyQA-data-conversation.json"
   ]
  },
  {
   "cell_type": "code",
   "execution_count": null,
   "metadata": {
    "vscode": {
     "languageId": "plaintext"
    }
   },
   "outputs": [],
   "source": [
    "# 生成数据集对应的Mindrecord数据，将带有prompt模板的数据转换为mindrecord格式。\n",
    "python ../mindformers/research/llama3/llama3_preprocess.py \\\n",
    "  --dataset_type qa \\\n",
    "  --input_glob ../dataset/PsyQA-data-conversation.json \\\n",
    "  --model_file ../mindformers/tokenizer.model \\\n",
    "  --seq_length 8192 \\\n",
    "  --output_file ../dataset/PsyQA.mindrecord"
   ]
  },
  {
   "cell_type": "code",
   "execution_count": null,
   "metadata": {
    "vscode": {
     "languageId": "plaintext"
    }
   },
   "outputs": [],
   "source": [
    "# 模型权重转换，将huggingface的权重转换为完整的ckpt权重。\n",
    "# input_path:  下载HuggingFace权重的文件夹路径\n",
    "# output_path: 转换后的MindSpore权重文件保存路径\n",
    "\n",
    "python ../mindformers/convert_weight.py --model llama --input_path ../Meta-Llama-3-8B --output_path ../mindformers/research/llama3/model_dir --dtype bf16"
   ]
  },
  {
   "cell_type": "code",
   "execution_count": null,
   "metadata": {
    "vscode": {
     "languageId": "plaintext"
    }
   },
   "outputs": [],
   "source": [
    "# 全参微调SFT\n",
    "# 单机8卡训练\n",
    "bash ../mindformers/scripts/msrun_launcher.sh \"run_mindformer.py \\\n",
    " --register_path ../mindformers/research/llama3 \\\n",
    " --config ../mindformers/research/llama3/llama3_8b/finetune_llama3_8b.yaml \\\n",
    " --load_checkpoint ../mindformers/research/llama3/model_dir \\\n",
    " --auto_trans_ckpt True \\\n",
    " --use_parallel True \\\n",
    " --run_mode finetune \\\n",
    " --train_data ../dataset/PsyQA.mindrecord\""
   ]
  },
  {
   "cell_type": "code",
   "execution_count": null,
   "metadata": {
    "vscode": {
     "languageId": "plaintext"
    }
   },
   "outputs": [],
   "source": [
    "# 单卡推理\n",
    "python ../mindformers/run_mindformer.py \\\n",
    " --register_path ../mindformers/research/llama3 \\\n",
    " --config ../mindformers/research/llama3/llama3_8b/predict_llama3_8b.yaml \\\n",
    " --load_checkpoint ../mindformers/research/llama3/model_dir \\\n",
    " --auto_trans_ckpt False \\\n",
    " --use_parallel False \\\n",
    " --run_mode predict \\\n",
    " --predict_data \"你好，我想进行抑郁筛查\""
   ]
  }
 ],
 "metadata": {
  "language_info": {
   "name": "python"
  }
 },
 "nbformat": 4,
 "nbformat_minor": 2
}
